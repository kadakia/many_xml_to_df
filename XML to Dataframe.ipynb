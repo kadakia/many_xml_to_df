{
 "cells": [
  {
   "cell_type": "code",
   "execution_count": 15,
   "metadata": {},
   "outputs": [],
   "source": [
    "import requests\n",
    "from bs4 import BeautifulSoup"
   ]
  },
  {
   "cell_type": "markdown",
   "metadata": {},
   "source": [
    "First, we make a get request to obtain the Wikipedia page on Mars in XML format, using the Wikipedia API."
   ]
  },
  {
   "cell_type": "code",
   "execution_count": 16,
   "metadata": {},
   "outputs": [],
   "source": [
    "url = 'https://en.wikipedia.org/w/api.php?action=query&prop=extracts&format=xml&exintro=&titles=Mars'"
   ]
  },
  {
   "cell_type": "code",
   "execution_count": 17,
   "metadata": {},
   "outputs": [
    {
     "name": "stdout",
     "output_type": "stream",
     "text": [
      "<?xml version=\"1.0\"?>\n",
      "<html>\n",
      " <body>\n",
      "  <api batchcomplete=\"\">\n",
      "   <query>\n",
      "    <pages>\n",
      "     <page _idx=\"14640471\" ns=\"0\" pageid=\"14640471\" title=\"Mars\">\n",
      "      <extract xml:space=\"preserve\">\n",
      "       &lt;p&gt;&lt;b&gt;Mars&lt;/b&gt; is the fourth planet from the Sun and the second-smallest planet in the Solar System after Mercury. In English, Mars carries a name of the Roman god of war, and is often referred to as the \"&lt;b&gt;Red Planet&lt;/b&gt;\" because the reddish iron oxide prevalent on its surface gives it a reddish appearance that is distinctive among the astronomical bodies visible to the naked eye. Mars is a terrestrial planet with a thin atmosphere, having surface features reminiscent both of the impact craters of the Moon and the valleys, deserts, and polar ice caps of Earth.&lt;/p&gt;\n",
      "&lt;p&gt;The rotational period and seasonal cycles of Mars are likewise similar to those of Earth, as is the tilt that produces the seasons. Mars is the site of Olympus Mons, the largest volcano and second-highest known mountain in the Solar System, and of Valles Marineris, one of the largest canyons in the Solar System. The smooth Borealis basin in the northern hemisphere covers 40% of the planet and may be a giant impact feature. Mars has two moons, Phobos and Deimos, which are small and irregularly shaped. These may be captured asteroids, similar to 5261 Eureka, a Mars trojan.&lt;/p&gt;\n",
      "&lt;p&gt;There are ongoing investigations assessing the past habitability potential of Mars, as well as the possibility of extant life. Future astrobiology missions are planned, including the Mars 2020 and ExoMars rovers. Liquid water cannot exist on the surface of Mars due to low atmospheric pressure, which is less than 1% of the Earth's, except at the lowest elevations for short periods. The two polar ice caps appear to be made largely of water. The volume of water ice in the south polar ice cap, if melted, would be sufficient to cover the entire planetary surface to a depth of 11 meters (36 ft). In November 2016, NASA reported finding a large amount of underground ice in the Utopia Planitia region of Mars. The volume of water detected has been estimated to be equivalent to the volume of water in Lake Superior.&lt;/p&gt;\n",
      "&lt;p&gt;Mars can easily be seen from Earth with the naked eye, as can its reddish coloring. Its apparent magnitude reaches −2.91, which is surpassed only by Jupiter, Venus, the Moon, and the Sun. Optical ground-based telescopes are typically limited to resolving features about 300 kilometers (190 mi) across when Earth and Mars are closest because of Earth's atmosphere.&lt;/p&gt;\n",
      "      </extract>\n",
      "     </page>\n",
      "    </pages>\n",
      "   </query>\n",
      "  </api>\n",
      " </body>\n",
      "</html>\n"
     ]
    }
   ],
   "source": [
    "xml_data = requests.get(url).content\n",
    "\n",
    "# Create a BeautifulSoup object from the xml\n",
    "soup = BeautifulSoup(xml_data, \"lxml\")\n",
    "\n",
    "# Prettify the BeautifulSoup object\n",
    "pretty_soup = BeautifulSoup.prettify(soup)\n",
    "\n",
    "# Print the response\n",
    "print(pretty_soup)"
   ]
  },
  {
   "cell_type": "code",
   "execution_count": 61,
   "metadata": {},
   "outputs": [],
   "source": [
    "# with open('Mars.xml', 'w') as file:\n",
    "#    file.write(pretty_soup)"
   ]
  },
  {
   "cell_type": "markdown",
   "metadata": {},
   "source": [
    "We wish to extract the data above and put into a (pandas) dataframe."
   ]
  },
  {
   "cell_type": "code",
   "execution_count": 18,
   "metadata": {},
   "outputs": [],
   "source": [
    "import xml.etree.ElementTree as ET\n",
    "import pandas as pd"
   ]
  },
  {
   "cell_type": "code",
   "execution_count": 19,
   "metadata": {},
   "outputs": [],
   "source": [
    "class XML2DataFrame:\n",
    "\n",
    "    def __init__(self, xml_data):\n",
    "        self.root = ET.XML(xml_data)\n",
    "        \n",
    "    def parse_element(self, element, parsed=None):\n",
    "        if parsed is None:\n",
    "            parsed = dict()\n",
    "        for key in element.keys():\n",
    "            parsed[key] = element.attrib.get(key)\n",
    "        if element.text:\n",
    "            parsed[element.tag] = element.text\n",
    "        for child in list(element): # RECURSION for nested tags\n",
    "            self.parse_element(child, parsed)\n",
    "        return parsed\n",
    "\n",
    "    def parse_root(self, root):\n",
    "        return [self.parse_element(child) for child in iter(root)] # list(element) vs iter(root) ?\n",
    "\n",
    "    def process_data(self):\n",
    "        structure_data = self.parse_root(self.root)\n",
    "        return pd.DataFrame(structure_data)\n",
    "\n",
    "# Citation: http://www.austintaylor.io/lxml/python/pandas/xml/dataframe/2016/07/08/convert-xml-to-pandas-dataframe/"
   ]
  },
  {
   "cell_type": "code",
   "execution_count": 20,
   "metadata": {},
   "outputs": [],
   "source": [
    "xml2df = XML2DataFrame(xml_data)\n",
    "xml_dataframe = xml2df.process_data()"
   ]
  },
  {
   "cell_type": "code",
   "execution_count": 23,
   "metadata": {},
   "outputs": [
    {
     "data": {
      "text/html": [
       "<div>\n",
       "<style scoped>\n",
       "    .dataframe tbody tr th:only-of-type {\n",
       "        vertical-align: middle;\n",
       "    }\n",
       "\n",
       "    .dataframe tbody tr th {\n",
       "        vertical-align: top;\n",
       "    }\n",
       "\n",
       "    .dataframe thead th {\n",
       "        text-align: right;\n",
       "    }\n",
       "</style>\n",
       "<table border=\"1\" class=\"dataframe\">\n",
       "  <thead>\n",
       "    <tr style=\"text-align: right;\">\n",
       "      <th></th>\n",
       "      <th>_idx</th>\n",
       "      <th>extract</th>\n",
       "      <th>ns</th>\n",
       "      <th>pageid</th>\n",
       "      <th>title</th>\n",
       "    </tr>\n",
       "  </thead>\n",
       "  <tbody>\n",
       "    <tr>\n",
       "      <th>0</th>\n",
       "      <td>14640471</td>\n",
       "      <td>&lt;p&gt;&lt;b&gt;Mars&lt;/b&gt; is the fourth planet from the S...</td>\n",
       "      <td>0</td>\n",
       "      <td>14640471</td>\n",
       "      <td>Mars</td>\n",
       "    </tr>\n",
       "  </tbody>\n",
       "</table>\n",
       "</div>"
      ],
      "text/plain": [
       "       _idx                                            extract ns    pageid  \\\n",
       "0  14640471  <p><b>Mars</b> is the fourth planet from the S...  0  14640471   \n",
       "\n",
       "  title  \n",
       "0  Mars  "
      ]
     },
     "execution_count": 23,
     "metadata": {},
     "output_type": "execute_result"
    }
   ],
   "source": [
    "xml_dataframe.iloc[:,0:5]"
   ]
  },
  {
   "cell_type": "code",
   "execution_count": 24,
   "metadata": {},
   "outputs": [
    {
     "data": {
      "text/plain": [
       "'<p><b>Mars</b> is the fourth planet from the Sun and the second-smallest planet in the Solar System after Mercury. In English, Mars carries a name of the Roman god of war, and is often referred to as the \"<b>Red Planet</b>\" because the reddish iron oxide prevalent on its surface gives it a reddish appearance that is distinctive among the astronomical bodies visible to the naked eye. Mars is a terrestrial planet with a thin atmosphere, having surface features reminiscent both of the impact craters of the Moon and the valleys, deserts, and polar ice caps of Earth.</p>\\n<p>The rotational period and seasonal cycles of Mars are likewise similar to those of Earth, as is the tilt that produces the seasons. Mars is the site of Olympus Mons, the largest volcano and second-highest known mountain in the Solar System, and of Valles Marineris, one of the largest canyons in the Solar System. The smooth Borealis basin in the northern hemisphere covers 40% of the planet and may be a giant impact feature. Mars has two moons, Phobos and Deimos, which are small and irregularly shaped. These may be captured asteroids, similar to 5261 Eureka, a Mars trojan.</p>\\n<p>There are ongoing investigations assessing the past habitability potential of Mars, as well as the possibility of extant life. Future astrobiology missions are planned, including the Mars 2020 and ExoMars rovers. Liquid water cannot exist on the surface of Mars due to low atmospheric pressure, which is less than 1% of the Earth\\'s, except at the lowest elevations for short periods. The two polar ice caps appear to be made largely of water. The volume of water ice in the south polar ice cap, if melted, would be sufficient to cover the entire planetary surface to a depth of 11 meters (36\\xa0ft). In November 2016, NASA reported finding a large amount of underground ice in the Utopia Planitia region of Mars. The volume of water detected has been estimated to be equivalent to the volume of water in Lake Superior.</p>\\n<p>Mars can easily be seen from Earth with the naked eye, as can its reddish coloring. Its apparent magnitude reaches −2.91, which is surpassed only by Jupiter, Venus, the Moon, and the Sun. Optical ground-based telescopes are typically limited to resolving features about 300 kilometers (190\\xa0mi) across when Earth and Mars are closest because of Earth\\'s atmosphere.</p>'"
      ]
     },
     "execution_count": 24,
     "metadata": {},
     "output_type": "execute_result"
    }
   ],
   "source": [
    "# Access intro of Wikipedia article on Mars\n",
    "xml_dataframe.iloc[0,1]"
   ]
  },
  {
   "cell_type": "markdown",
   "metadata": {},
   "source": [
    "# Multiple XML files"
   ]
  },
  {
   "cell_type": "markdown",
   "metadata": {},
   "source": [
    "Now for the case of multiple XML files, we loop through each file."
   ]
  },
  {
   "cell_type": "code",
   "execution_count": 25,
   "metadata": {},
   "outputs": [],
   "source": [
    "earth_pages = 'https://en.wikipedia.org/w/api.php?action=query&generator=allpages&gaplimit=100&gapfrom=Earth&format=xml&gapfilterredir=nonredirects'"
   ]
  },
  {
   "cell_type": "code",
   "execution_count": 26,
   "metadata": {},
   "outputs": [],
   "source": [
    "earth_data = requests.get(earth_pages).content\n",
    "\n",
    "# Create a BeautifulSoup object from the xml\n",
    "earth_soup = BeautifulSoup(earth_data, \"lxml\")"
   ]
  },
  {
   "cell_type": "code",
   "execution_count": 27,
   "metadata": {},
   "outputs": [
    {
     "data": {
      "text/plain": [
       "<?xml version=\"1.0\"?><html><body><api batchcomplete=\"\"><continue continue=\"gapcontinue||\" gapcontinue=\"Earth's_weight\"></continue><query><pages><page _idx=\"9228\" ns=\"0\" pageid=\"9228\" title=\"Earth\"></page><page _idx=\"9940789\" ns=\"0\" pageid=\"9940789\" title=\"Earth's Answer\"></page><page _idx=\"29803921\" ns=\"0\" pageid=\"29803921\" title=\"Earth's Birthday Project\"></page><page _idx=\"1833777\" ns=\"0\" pageid=\"1833777\" title=\"Earth's Children\"></page><page _idx=\"22528186\" ns=\"0\" pageid=\"22528186\" title=\"Earth's Creation\"></page><page _idx=\"51117758\" ns=\"0\" pageid=\"51117758\" title=\"Earth's Greatest Spectacles\"></page><page _idx=\"24524199\" ns=\"0\" pageid=\"24524199\" title=\"Earth's Last Citadel\"></page><page _idx=\"24161171\" ns=\"0\" pageid=\"24161171\" title=\"Earth's Man\"></page><page _idx=\"37764175\" ns=\"0\" pageid=\"37764175\" title=\"Earth's Own Food Company\"></page><page _idx=\"48436511\" ns=\"0\" pageid=\"48436511\" title=\"Earth's Quality\"></page><page _idx=\"28004154\" ns=\"0\" pageid=\"28004154\" title=\"Earth's Rightful Ruler\"></page><page _idx=\"39040241\" ns=\"0\" pageid=\"39040241\" title=\"Earth's Skin\"></page><page _idx=\"11360081\" ns=\"0\" pageid=\"11360081\" title=\"Earth's critical zone\"></page><page _idx=\"944638\" ns=\"0\" pageid=\"944638\" title=\"Earth's energy budget\"></page><page _idx=\"11434033\" ns=\"0\" pageid=\"11434033\" title=\"Earth's field NMR\"></page><page _idx=\"41077022\" ns=\"0\" pageid=\"41077022\" title=\"Earth's internal heat budget\"></page><page _idx=\"14997569\" ns=\"0\" pageid=\"14997569\" title=\"Earth's location in the Universe\"></page><page _idx=\"146983\" ns=\"0\" pageid=\"146983\" title=\"Earth's magnetic field\"></page><page _idx=\"878461\" ns=\"0\" pageid=\"878461\" title=\"Earth's orbit\"></page><page _idx=\"4396171\" ns=\"0\" pageid=\"4396171\" title=\"Earth's rotation\"></page><page _idx=\"29247528\" ns=\"0\" pageid=\"29247528\" title=\"Earth's shadow\"></page></pages></query></api></body></html>"
      ]
     },
     "execution_count": 27,
     "metadata": {},
     "output_type": "execute_result"
    }
   ],
   "source": [
    "earth_soup"
   ]
  },
  {
   "cell_type": "code",
   "execution_count": 28,
   "metadata": {},
   "outputs": [],
   "source": [
    "earth_tags = earth_soup.find_all('page')"
   ]
  },
  {
   "cell_type": "code",
   "execution_count": 29,
   "metadata": {},
   "outputs": [
    {
     "data": {
      "text/plain": [
       "[<page _idx=\"9228\" ns=\"0\" pageid=\"9228\" title=\"Earth\"></page>,\n",
       " <page _idx=\"9940789\" ns=\"0\" pageid=\"9940789\" title=\"Earth's Answer\"></page>,\n",
       " <page _idx=\"29803921\" ns=\"0\" pageid=\"29803921\" title=\"Earth's Birthday Project\"></page>,\n",
       " <page _idx=\"1833777\" ns=\"0\" pageid=\"1833777\" title=\"Earth's Children\"></page>,\n",
       " <page _idx=\"22528186\" ns=\"0\" pageid=\"22528186\" title=\"Earth's Creation\"></page>,\n",
       " <page _idx=\"51117758\" ns=\"0\" pageid=\"51117758\" title=\"Earth's Greatest Spectacles\"></page>,\n",
       " <page _idx=\"24524199\" ns=\"0\" pageid=\"24524199\" title=\"Earth's Last Citadel\"></page>,\n",
       " <page _idx=\"24161171\" ns=\"0\" pageid=\"24161171\" title=\"Earth's Man\"></page>,\n",
       " <page _idx=\"37764175\" ns=\"0\" pageid=\"37764175\" title=\"Earth's Own Food Company\"></page>,\n",
       " <page _idx=\"48436511\" ns=\"0\" pageid=\"48436511\" title=\"Earth's Quality\"></page>,\n",
       " <page _idx=\"28004154\" ns=\"0\" pageid=\"28004154\" title=\"Earth's Rightful Ruler\"></page>,\n",
       " <page _idx=\"39040241\" ns=\"0\" pageid=\"39040241\" title=\"Earth's Skin\"></page>,\n",
       " <page _idx=\"11360081\" ns=\"0\" pageid=\"11360081\" title=\"Earth's critical zone\"></page>,\n",
       " <page _idx=\"944638\" ns=\"0\" pageid=\"944638\" title=\"Earth's energy budget\"></page>,\n",
       " <page _idx=\"11434033\" ns=\"0\" pageid=\"11434033\" title=\"Earth's field NMR\"></page>,\n",
       " <page _idx=\"41077022\" ns=\"0\" pageid=\"41077022\" title=\"Earth's internal heat budget\"></page>,\n",
       " <page _idx=\"14997569\" ns=\"0\" pageid=\"14997569\" title=\"Earth's location in the Universe\"></page>,\n",
       " <page _idx=\"146983\" ns=\"0\" pageid=\"146983\" title=\"Earth's magnetic field\"></page>,\n",
       " <page _idx=\"878461\" ns=\"0\" pageid=\"878461\" title=\"Earth's orbit\"></page>,\n",
       " <page _idx=\"4396171\" ns=\"0\" pageid=\"4396171\" title=\"Earth's rotation\"></page>,\n",
       " <page _idx=\"29247528\" ns=\"0\" pageid=\"29247528\" title=\"Earth's shadow\"></page>]"
      ]
     },
     "execution_count": 29,
     "metadata": {},
     "output_type": "execute_result"
    }
   ],
   "source": [
    "earth_tags"
   ]
  },
  {
   "cell_type": "code",
   "execution_count": 30,
   "metadata": {},
   "outputs": [],
   "source": [
    "id_list = []\n",
    "\n",
    "for link in earth_tags:\n",
    "    id_list.append(int(link.get('pageid')))"
   ]
  },
  {
   "cell_type": "code",
   "execution_count": 31,
   "metadata": {},
   "outputs": [
    {
     "data": {
      "text/plain": [
       "[9228,\n",
       " 9940789,\n",
       " 29803921,\n",
       " 1833777,\n",
       " 22528186,\n",
       " 51117758,\n",
       " 24524199,\n",
       " 24161171,\n",
       " 37764175,\n",
       " 48436511,\n",
       " 28004154,\n",
       " 39040241,\n",
       " 11360081,\n",
       " 944638,\n",
       " 11434033,\n",
       " 41077022,\n",
       " 14997569,\n",
       " 146983,\n",
       " 878461,\n",
       " 4396171,\n",
       " 29247528]"
      ]
     },
     "execution_count": 31,
     "metadata": {},
     "output_type": "execute_result"
    }
   ],
   "source": [
    "id_list"
   ]
  },
  {
   "cell_type": "code",
   "execution_count": 32,
   "metadata": {},
   "outputs": [],
   "source": [
    "base_url = 'https://en.wikipedia.org/w/api.php?action=query&prop=extracts&format=xml&exintro=&'\n",
    "\n",
    "for pageid in id_list:\n",
    "\n",
    "    query = 'pageids=%i' % pageid\n",
    "\n",
    "    # perform a GET request using the base_url and query\n",
    "    xml_data = requests.get(base_url+query).content\n",
    "    \n",
    "    xml2df = XML2DataFrame(xml_data)\n",
    "    xml_dataframe_2 = xml2df.process_data()\n",
    "    xml_dataframe = pd.concat([xml_dataframe,xml_dataframe_2], ignore_index=True, join='inner')"
   ]
  },
  {
   "cell_type": "code",
   "execution_count": 33,
   "metadata": {},
   "outputs": [
    {
     "data": {
      "text/html": [
       "<div>\n",
       "<style scoped>\n",
       "    .dataframe tbody tr th:only-of-type {\n",
       "        vertical-align: middle;\n",
       "    }\n",
       "\n",
       "    .dataframe tbody tr th {\n",
       "        vertical-align: top;\n",
       "    }\n",
       "\n",
       "    .dataframe thead th {\n",
       "        text-align: right;\n",
       "    }\n",
       "</style>\n",
       "<table border=\"1\" class=\"dataframe\">\n",
       "  <thead>\n",
       "    <tr style=\"text-align: right;\">\n",
       "      <th></th>\n",
       "      <th>_idx</th>\n",
       "      <th>extract</th>\n",
       "      <th>ns</th>\n",
       "      <th>pageid</th>\n",
       "      <th>title</th>\n",
       "    </tr>\n",
       "  </thead>\n",
       "  <tbody>\n",
       "    <tr>\n",
       "      <th>0</th>\n",
       "      <td>14640471</td>\n",
       "      <td>&lt;p&gt;&lt;b&gt;Mars&lt;/b&gt; is the fourth planet from the S...</td>\n",
       "      <td>0</td>\n",
       "      <td>14640471</td>\n",
       "      <td>Mars</td>\n",
       "    </tr>\n",
       "    <tr>\n",
       "      <th>1</th>\n",
       "      <td>9228</td>\n",
       "      <td>&lt;p&gt;&lt;b&gt;Earth&lt;/b&gt; is the third planet from the S...</td>\n",
       "      <td>0</td>\n",
       "      <td>9228</td>\n",
       "      <td>Earth</td>\n",
       "    </tr>\n",
       "    <tr>\n",
       "      <th>2</th>\n",
       "      <td>9940789</td>\n",
       "      <td>&lt;p&gt;&lt;b&gt;Earth's Answer&lt;/b&gt; is a poem by William ...</td>\n",
       "      <td>0</td>\n",
       "      <td>9940789</td>\n",
       "      <td>Earth's Answer</td>\n",
       "    </tr>\n",
       "    <tr>\n",
       "      <th>3</th>\n",
       "      <td>29803921</td>\n",
       "      <td>&lt;ul&gt;&lt;li class=\"mw-empty-elt\"&gt;\\n&lt;li class=\"mw-e...</td>\n",
       "      <td>0</td>\n",
       "      <td>29803921</td>\n",
       "      <td>Earth's Birthday Project</td>\n",
       "    </tr>\n",
       "    <tr>\n",
       "      <th>4</th>\n",
       "      <td>1833777</td>\n",
       "      <td>&lt;p&gt;&lt;i&gt;&lt;b&gt;Earth's Children&lt;/b&gt;&lt;/i&gt; is a series ...</td>\n",
       "      <td>0</td>\n",
       "      <td>1833777</td>\n",
       "      <td>Earth's Children</td>\n",
       "    </tr>\n",
       "    <tr>\n",
       "      <th>5</th>\n",
       "      <td>22528186</td>\n",
       "      <td>&lt;p&gt;&lt;i&gt;&lt;b&gt;Earth's Creation&lt;/b&gt;&lt;/i&gt; is a paintin...</td>\n",
       "      <td>0</td>\n",
       "      <td>22528186</td>\n",
       "      <td>Earth's Creation</td>\n",
       "    </tr>\n",
       "    <tr>\n",
       "      <th>6</th>\n",
       "      <td>51117758</td>\n",
       "      <td>&lt;p&gt;&lt;i&gt;&lt;b&gt;Earth's Greatest Spectacles&lt;/b&gt;&lt;/i&gt; (...</td>\n",
       "      <td>0</td>\n",
       "      <td>51117758</td>\n",
       "      <td>Earth's Greatest Spectacles</td>\n",
       "    </tr>\n",
       "    <tr>\n",
       "      <th>7</th>\n",
       "      <td>24524199</td>\n",
       "      <td>&lt;p&gt;&lt;i&gt;&lt;b&gt;Earth's Last Citadel&lt;/b&gt;&lt;/i&gt; is a sci...</td>\n",
       "      <td>0</td>\n",
       "      <td>24524199</td>\n",
       "      <td>Earth's Last Citadel</td>\n",
       "    </tr>\n",
       "    <tr>\n",
       "      <th>8</th>\n",
       "      <td>24161171</td>\n",
       "      <td>&lt;p&gt;&lt;i&gt;&lt;b&gt;Earth's Man&lt;/b&gt;&lt;/i&gt; (Hungarian: &lt;i&gt;&lt;s...</td>\n",
       "      <td>0</td>\n",
       "      <td>24161171</td>\n",
       "      <td>Earth's Man</td>\n",
       "    </tr>\n",
       "    <tr>\n",
       "      <th>9</th>\n",
       "      <td>37764175</td>\n",
       "      <td>&lt;p&gt;&lt;b&gt;Earth's Own Food Company&lt;/b&gt; (previously...</td>\n",
       "      <td>0</td>\n",
       "      <td>37764175</td>\n",
       "      <td>Earth's Own Food Company</td>\n",
       "    </tr>\n",
       "    <tr>\n",
       "      <th>10</th>\n",
       "      <td>48436511</td>\n",
       "      <td>&lt;p&gt;&lt;i&gt;&lt;b&gt;Earth's Quality&lt;/b&gt;&lt;/i&gt; (1935) is a n...</td>\n",
       "      <td>0</td>\n",
       "      <td>48436511</td>\n",
       "      <td>Earth's Quality</td>\n",
       "    </tr>\n",
       "    <tr>\n",
       "      <th>11</th>\n",
       "      <td>28004154</td>\n",
       "      <td>&lt;p&gt;&lt;i&gt;&lt;b&gt;Earth Rightful Ruler&lt;/b&gt;&lt;/i&gt; (sometim...</td>\n",
       "      <td>0</td>\n",
       "      <td>28004154</td>\n",
       "      <td>Earth's Rightful Ruler</td>\n",
       "    </tr>\n",
       "    <tr>\n",
       "      <th>12</th>\n",
       "      <td>39040241</td>\n",
       "      <td>&lt;p&gt;&lt;i&gt;&lt;b&gt;Earth's Skin&lt;/b&gt;&lt;/i&gt; (Spanish: &lt;i&gt;&lt;sp...</td>\n",
       "      <td>0</td>\n",
       "      <td>39040241</td>\n",
       "      <td>Earth's Skin</td>\n",
       "    </tr>\n",
       "    <tr>\n",
       "      <th>13</th>\n",
       "      <td>11360081</td>\n",
       "      <td>&lt;p&gt;&lt;b&gt;Earth's critical zone&lt;/b&gt; is the “hetero...</td>\n",
       "      <td>0</td>\n",
       "      <td>11360081</td>\n",
       "      <td>Earth's critical zone</td>\n",
       "    </tr>\n",
       "    <tr>\n",
       "      <th>14</th>\n",
       "      <td>944638</td>\n",
       "      <td>&lt;p&gt;&lt;b&gt;Earth's energy budget&lt;/b&gt; accounts for t...</td>\n",
       "      <td>0</td>\n",
       "      <td>944638</td>\n",
       "      <td>Earth's energy budget</td>\n",
       "    </tr>\n",
       "    <tr>\n",
       "      <th>15</th>\n",
       "      <td>11434033</td>\n",
       "      <td>&lt;p&gt;Nuclear magnetic resonance (NMR) in the geo...</td>\n",
       "      <td>0</td>\n",
       "      <td>11434033</td>\n",
       "      <td>Earth's field NMR</td>\n",
       "    </tr>\n",
       "    <tr>\n",
       "      <th>16</th>\n",
       "      <td>41077022</td>\n",
       "      <td>&lt;p&gt;The &lt;b&gt;flow of heat from Earth's interior t...</td>\n",
       "      <td>0</td>\n",
       "      <td>41077022</td>\n",
       "      <td>Earth's internal heat budget</td>\n",
       "    </tr>\n",
       "    <tr>\n",
       "      <th>17</th>\n",
       "      <td>14997569</td>\n",
       "      <td>&lt;p&gt;Knowledge of &lt;b&gt;Earth's location in the Uni...</td>\n",
       "      <td>0</td>\n",
       "      <td>14997569</td>\n",
       "      <td>Earth's location in the Universe</td>\n",
       "    </tr>\n",
       "    <tr>\n",
       "      <th>18</th>\n",
       "      <td>146983</td>\n",
       "      <td>&lt;p&gt;&lt;b&gt;Earth's magnetic field&lt;/b&gt;, is also know...</td>\n",
       "      <td>0</td>\n",
       "      <td>146983</td>\n",
       "      <td>Earth's magnetic field</td>\n",
       "    </tr>\n",
       "    <tr>\n",
       "      <th>19</th>\n",
       "      <td>878461</td>\n",
       "      <td>&lt;p&gt;&lt;b&gt;Earth's orbit&lt;/b&gt; is the trajectory alon...</td>\n",
       "      <td>0</td>\n",
       "      <td>878461</td>\n",
       "      <td>Earth's orbit</td>\n",
       "    </tr>\n",
       "    <tr>\n",
       "      <th>20</th>\n",
       "      <td>4396171</td>\n",
       "      <td>&lt;p&gt;&lt;b&gt;Earth's rotation&lt;/b&gt; is the rotation of ...</td>\n",
       "      <td>0</td>\n",
       "      <td>4396171</td>\n",
       "      <td>Earth's rotation</td>\n",
       "    </tr>\n",
       "    <tr>\n",
       "      <th>21</th>\n",
       "      <td>29247528</td>\n",
       "      <td>&lt;p&gt;&lt;b&gt;Earth's shadow&lt;/b&gt; or &lt;b&gt;Earth shadow&lt;/b...</td>\n",
       "      <td>0</td>\n",
       "      <td>29247528</td>\n",
       "      <td>Earth's shadow</td>\n",
       "    </tr>\n",
       "  </tbody>\n",
       "</table>\n",
       "</div>"
      ],
      "text/plain": [
       "        _idx                                            extract ns    pageid  \\\n",
       "0   14640471  <p><b>Mars</b> is the fourth planet from the S...  0  14640471   \n",
       "1       9228  <p><b>Earth</b> is the third planet from the S...  0      9228   \n",
       "2    9940789  <p><b>Earth's Answer</b> is a poem by William ...  0   9940789   \n",
       "3   29803921  <ul><li class=\"mw-empty-elt\">\\n<li class=\"mw-e...  0  29803921   \n",
       "4    1833777  <p><i><b>Earth's Children</b></i> is a series ...  0   1833777   \n",
       "5   22528186  <p><i><b>Earth's Creation</b></i> is a paintin...  0  22528186   \n",
       "6   51117758  <p><i><b>Earth's Greatest Spectacles</b></i> (...  0  51117758   \n",
       "7   24524199  <p><i><b>Earth's Last Citadel</b></i> is a sci...  0  24524199   \n",
       "8   24161171  <p><i><b>Earth's Man</b></i> (Hungarian: <i><s...  0  24161171   \n",
       "9   37764175  <p><b>Earth's Own Food Company</b> (previously...  0  37764175   \n",
       "10  48436511  <p><i><b>Earth's Quality</b></i> (1935) is a n...  0  48436511   \n",
       "11  28004154  <p><i><b>Earth Rightful Ruler</b></i> (sometim...  0  28004154   \n",
       "12  39040241  <p><i><b>Earth's Skin</b></i> (Spanish: <i><sp...  0  39040241   \n",
       "13  11360081  <p><b>Earth's critical zone</b> is the “hetero...  0  11360081   \n",
       "14    944638  <p><b>Earth's energy budget</b> accounts for t...  0    944638   \n",
       "15  11434033  <p>Nuclear magnetic resonance (NMR) in the geo...  0  11434033   \n",
       "16  41077022  <p>The <b>flow of heat from Earth's interior t...  0  41077022   \n",
       "17  14997569  <p>Knowledge of <b>Earth's location in the Uni...  0  14997569   \n",
       "18    146983  <p><b>Earth's magnetic field</b>, is also know...  0    146983   \n",
       "19    878461  <p><b>Earth's orbit</b> is the trajectory alon...  0    878461   \n",
       "20   4396171  <p><b>Earth's rotation</b> is the rotation of ...  0   4396171   \n",
       "21  29247528  <p><b>Earth's shadow</b> or <b>Earth shadow</b...  0  29247528   \n",
       "\n",
       "                               title  \n",
       "0                               Mars  \n",
       "1                              Earth  \n",
       "2                     Earth's Answer  \n",
       "3           Earth's Birthday Project  \n",
       "4                   Earth's Children  \n",
       "5                   Earth's Creation  \n",
       "6        Earth's Greatest Spectacles  \n",
       "7               Earth's Last Citadel  \n",
       "8                        Earth's Man  \n",
       "9           Earth's Own Food Company  \n",
       "10                   Earth's Quality  \n",
       "11            Earth's Rightful Ruler  \n",
       "12                      Earth's Skin  \n",
       "13             Earth's critical zone  \n",
       "14             Earth's energy budget  \n",
       "15                 Earth's field NMR  \n",
       "16      Earth's internal heat budget  \n",
       "17  Earth's location in the Universe  \n",
       "18            Earth's magnetic field  \n",
       "19                     Earth's orbit  \n",
       "20                  Earth's rotation  \n",
       "21                    Earth's shadow  "
      ]
     },
     "execution_count": 33,
     "metadata": {},
     "output_type": "execute_result"
    }
   ],
   "source": [
    "xml_dataframe.iloc[:,0:5]"
   ]
  }
 ],
 "metadata": {
  "kernelspec": {
   "display_name": "Python 3",
   "language": "python",
   "name": "python3"
  },
  "language_info": {
   "codemirror_mode": {
    "name": "ipython",
    "version": 3
   },
   "file_extension": ".py",
   "mimetype": "text/x-python",
   "name": "python",
   "nbconvert_exporter": "python",
   "pygments_lexer": "ipython3",
   "version": "3.6.4"
  }
 },
 "nbformat": 4,
 "nbformat_minor": 2
}
